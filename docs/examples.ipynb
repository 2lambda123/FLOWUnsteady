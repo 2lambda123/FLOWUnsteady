{
 "cells": [
  {
   "cell_type": "markdown",
   "metadata": {},
   "source": [
    "<center>\n",
    "    <b><span style=\"font-size: 1em;\">\n",
    "        EXAMPLES\n",
    "    </span></b>\n",
    "    <br>\n",
    "    <b><span style=\"font-size: 2em;\">\n",
    "        FLOWUnsteady\n",
    "    </span></b>\n",
    "    <br>\n",
    "    <span style=\"font-size: 1em;\">\n",
    "        Last Update: 04/2020\n",
    "    </span>  \n",
    "</center>"
   ]
  },
  {
   "cell_type": "markdown",
   "metadata": {},
   "source": [
    "This document reports the results of the example simulations under [`examples/`](https://github.com/byuflowlab/FLOWUnsteady/tree/master/examples)"
   ]
  },
  {
   "cell_type": "code",
   "execution_count": 6,
   "metadata": {},
   "outputs": [],
   "source": [
    "using PyCall\n",
    "command1 = \"<iframe width=\\\"600\\\" height=\\\"337\\\" src=\\\"https://www.youtube.com/embed/\"\n",
    "command2 = \"?modestbranding=1&autohide=1&showinfo=0&rel=0&controls=1\\\"\n",
    "            frameborder=\\\"0\\\" allow=\\\"autoplay; encrypted-media\\\" \n",
    "            allowfullscreen></iframe>\";"
   ]
  },
  {
   "cell_type": "markdown",
   "metadata": {},
   "source": [
    "# Heaving Wing"
   ]
  },
  {
   "cell_type": "markdown",
   "metadata": {},
   "source": [
    "[`examples/heavingwing.jl`](https://github.com/byuflowlab/FLOWUnsteady/blob/master/examples/heavingwing.jl)\n",
    "\n",
    "Swept wing in heaving motion. This example tests FLOWUnsteady's capacity to capture unsteady aerodynamics."
   ]
  },
  {
   "cell_type": "markdown",
   "metadata": {},
   "source": [
    "<img src=\"https://media.githubusercontent.com/media/byuflowlab/FLOWUnsteady/master/docs/vid/bertinsheaving00_1and3.gif\" alt=\"Vid here\" width=\"700px\">"
   ]
  },
  {
   "cell_type": "markdown",
   "metadata": {},
   "source": [
    "<img src=\"img/heavingwing00.png\" alt=\"Pic here\" width=\"600px\">"
   ]
  },
  {
   "cell_type": "markdown",
   "metadata": {},
   "source": [
    "<img src=\"img/heavingwing02.png\" alt=\"Pic here\" width=\"900px\">"
   ]
  },
  {
   "cell_type": "markdown",
   "metadata": {},
   "source": [
    "<img src=\"img/heavingwing03.png\" alt=\"Pic here\" width=\"900px\">"
   ]
  },
  {
   "cell_type": "code",
   "execution_count": 3,
   "metadata": {
    "scrolled": true
   },
   "outputs": [
    {
     "data": {
      "text/html": [
       "<iframe width=\"600\" height=\"337\" src=\"https://www.youtube.com/embed/NimSqJWjRAY?modestbranding=1&autohide=1&showinfo=0&rel=0&controls=1\"\n",
       "            frameborder=\"0\" allow=\"autoplay; encrypted-media\" \n",
       "            allowfullscreen></iframe>"
      ],
      "text/plain": [
       "HTML{String}(\"<iframe width=\\\"600\\\" height=\\\"337\\\" src=\\\"https://www.youtube.com/embed/NimSqJWjRAY?modestbranding=1&autohide=1&showinfo=0&rel=0&controls=1\\\"\\n            frameborder=\\\"0\\\" allow=\\\"autoplay; encrypted-media\\\" \\n            allowfullscreen></iframe>\")"
      ]
     },
     "execution_count": 3,
     "metadata": {},
     "output_type": "execute_result"
    }
   ],
   "source": [
    "HTML(command1*\"NimSqJWjRAY\"*command2)"
   ]
  },
  {
   "cell_type": "markdown",
   "metadata": {},
   "source": [
    "<img src=\"img/heaving00.png\" alt=\"Pic here\" width=\"700px\">"
   ]
  },
  {
   "cell_type": "markdown",
   "metadata": {},
   "source": [
    "<img src=\"img/heaving01.png\" alt=\"Pic here\" width=\"800px\">"
   ]
  },
  {
   "cell_type": "markdown",
   "metadata": {},
   "source": [
    "# Tandem Heaving Wing"
   ]
  },
  {
   "cell_type": "markdown",
   "metadata": {},
   "source": [
    "[`examples/tandemheavingwing.jl`](https://github.com/byuflowlab/FLOWUnsteady/blob/master/examples/tandemheavingwing.jl)\n",
    "\n",
    "Tandem wing configuration with the front wing in heaving motion shedding a wake that impinges on the back wing. This example tests FLOWUnsteady's capacity to capture wing-on-wing interactions."
   ]
  },
  {
   "cell_type": "code",
   "execution_count": 4,
   "metadata": {
    "scrolled": true
   },
   "outputs": [
    {
     "data": {
      "text/html": [
       "<iframe width=\"600\" height=\"337\" src=\"https://www.youtube.com/embed/Pch94bKpjrQ?modestbranding=1&autohide=1&showinfo=0&rel=0&controls=1\"\n",
       "            frameborder=\"0\" allow=\"autoplay; encrypted-media\" \n",
       "            allowfullscreen></iframe>"
      ],
      "text/plain": [
       "HTML{String}(\"<iframe width=\\\"600\\\" height=\\\"337\\\" src=\\\"https://www.youtube.com/embed/Pch94bKpjrQ?modestbranding=1&autohide=1&showinfo=0&rel=0&controls=1\\\"\\n            frameborder=\\\"0\\\" allow=\\\"autoplay; encrypted-media\\\" \\n            allowfullscreen></iframe>\")"
      ]
     },
     "execution_count": 4,
     "metadata": {},
     "output_type": "execute_result"
    }
   ],
   "source": [
    "HTML(command1*\"Pch94bKpjrQ\"*command2)"
   ]
  },
  {
   "cell_type": "markdown",
   "metadata": {},
   "source": [
    "<img src=\"img/tandemheaving00.png\" alt=\"Pic here\" width=\"900px\">"
   ]
  },
  {
   "cell_type": "markdown",
   "metadata": {},
   "source": [
    "<img src=\"img/tandemheaving01.png\" alt=\"Pic here\" width=\"800px\">"
   ]
  },
  {
   "cell_type": "markdown",
   "metadata": {},
   "source": [
    "# Cross-wind Circular Path"
   ]
  },
  {
   "cell_type": "markdown",
   "metadata": {},
   "source": [
    "[`examples/circularpath.jl`](https://github.com/byuflowlab/FLOWUnsteady/blob/master/examples/circularpath.jl)\n",
    "\n",
    "Swept wing in a circular path under cross wind perpendicular to the plane of rotation. This example tests FLOWUnsteady's capacity to capture unsteady aerodynamics."
   ]
  },
  {
   "cell_type": "markdown",
   "metadata": {},
   "source": [
    "<img src=\"https://media.githubusercontent.com/media/byuflowlab/FLOWUnsteady/master/docs/vid/circularpath03_1and2.gif\" alt=\"Vid here\" width=\"700px\">"
   ]
  },
  {
   "cell_type": "markdown",
   "metadata": {},
   "source": [
    "<img src=\"img/circularpath03.png\" alt=\"Pic here\" width=\"600px\">"
   ]
  },
  {
   "cell_type": "markdown",
   "metadata": {},
   "source": [
    "<img src=\"img/circularpath03_2.png\" alt=\"Pic here\" width=\"600px\">"
   ]
  },
  {
   "cell_type": "markdown",
   "metadata": {},
   "source": [
    "Notice that the lift coefficient oscillates because I hard-coded it to be taken from force in the $y$-direction."
   ]
  },
  {
   "cell_type": "markdown",
   "metadata": {},
   "source": [
    "<img src=\"img/circlesim.jpg\" alt=\"Pic here\" width=\"600px\">"
   ]
  },
  {
   "cell_type": "markdown",
   "metadata": {},
   "source": [
    "# Blown Wing"
   ]
  },
  {
   "cell_type": "markdown",
   "metadata": {},
   "source": [
    "[`examples/blownwing/`](https://github.com/byuflowlab/FLOWUnsteady/blob/master/examples/blownwing)\n",
    "\n",
    "Swept wing with two propellers. This example tests FLOWUnsteady's capacity to capture rotor-on-wing and wing-on-rotor aerodynamic and aeroacoustic interactions."
   ]
  },
  {
   "cell_type": "code",
   "execution_count": 5,
   "metadata": {
    "scrolled": true
   },
   "outputs": [
    {
     "data": {
      "text/html": [
       "<iframe width=\"600\" height=\"337\" src=\"https://www.youtube.com/embed/3REcIdIXrZA?modestbranding=1&autohide=1&showinfo=0&rel=0&controls=1\"\n",
       "            frameborder=\"0\" allow=\"autoplay; encrypted-media\" \n",
       "            allowfullscreen></iframe>"
      ],
      "text/plain": [
       "HTML{String}(\"<iframe width=\\\"600\\\" height=\\\"337\\\" src=\\\"https://www.youtube.com/embed/3REcIdIXrZA?modestbranding=1&autohide=1&showinfo=0&rel=0&controls=1\\\"\\n            frameborder=\\\"0\\\" allow=\\\"autoplay; encrypted-media\\\" \\n            allowfullscreen></iframe>\")"
      ]
     },
     "execution_count": 5,
     "metadata": {},
     "output_type": "execute_result"
    }
   ],
   "source": [
    "HTML(command1*\"3REcIdIXrZA\"*command2)"
   ]
  }
 ],
 "metadata": {
  "hide_input": false,
  "kernelspec": {
   "display_name": "Julia 0.6.4",
   "language": "julia",
   "name": "julia-0.6"
  },
  "language_info": {
   "file_extension": ".jl",
   "mimetype": "application/julia",
   "name": "julia",
   "version": "0.6.4"
  }
 },
 "nbformat": 4,
 "nbformat_minor": 4
}
